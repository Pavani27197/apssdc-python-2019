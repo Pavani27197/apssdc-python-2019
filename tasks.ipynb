{
 "cells": [
  {
   "cell_type": "code",
   "execution_count": 10,
   "metadata": {},
   "outputs": [
    {
     "name": "stdout",
     "output_type": "stream",
     "text": [
      "102 108 114 120 126 132 138 144 150 156 162 168 174 180 186 192 198 "
     ]
    }
   ],
   "source": [
    "# Function to print all numbers divisible by 6 and not a factor of 100 in a given range(lb, ub) inclusive\n",
    "\n",
    "\n",
    "def divisible6(lb, ub):\n",
    "    for i in range(lb, ub+1):\n",
    "        if i % 6 == 0 and 100 % i != 0:\n",
    "            print(i, end=\" \")\n",
    "    return\n",
    "\n",
    "divisible6(100, 200)\n",
    "        "
   ]
  },
  {
   "cell_type": "code",
   "execution_count": 13,
   "metadata": {},
   "outputs": [
    {
     "name": "stdout",
     "output_type": "stream",
     "text": [
      "2 "
     ]
    },
    {
     "data": {
      "text/plain": [
       "8.0"
      ]
     },
     "execution_count": 13,
     "metadata": {},
     "output_type": "execute_result"
    }
   ],
   "source": [
    "# Function to find the average of cubes of all even numbers in a given range(lb, ub) inclusive\n",
    "def avgcubeeven(lb,ub):\n",
    "    sum = 0\n",
    "    count = 0\n",
    "    for num in range (lb, ub + 1):\n",
    "        if num % 2 == 0: \n",
    "            print(num, end = \" \") \n",
    "            num=num*num*num\n",
    "            sum = sum + num\n",
    "            count = count + 1\n",
    "            \n",
    "    return sum/count\n",
    "\n",
    "avgcubeeven(1,3)"
   ]
  },
  {
   "cell_type": "code",
   "execution_count": 11,
   "metadata": {},
   "outputs": [
    {
     "name": "stdout",
     "output_type": "stream",
     "text": [
      "1 2 3 4 6 12\n"
     ]
    }
   ],
   "source": [
    "# Function to generate the list of factors for a given number\n",
    "#12 -> 1 2 3 4 6 12\n",
    "def factorlist(n):\n",
    "    for i in range(1, n//2 +1):\n",
    "        if n % i == 0:\n",
    "            print(i,end=\" \")\n",
    "    print(n)\n",
    "    return\n",
    "factorlist(12) "
   ]
  },
  {
   "cell_type": "code",
   "execution_count": 17,
   "metadata": {},
   "outputs": [
    {
     "data": {
      "text/plain": [
       "11"
      ]
     },
     "execution_count": 17,
     "metadata": {},
     "output_type": "execute_result"
    }
   ],
   "source": [
    " # Function to check if a given number is Prime\n",
    "def isPrime(n):\n",
    "    flag =True\n",
    "    for i in range(1, n +1):\n",
    "        if n% i==0:\n",
    "            i = i +1\n",
    "            flag =False\n",
    "    return i\n",
    "isPrime(10)"
   ]
  },
  {
   "cell_type": "code",
   "execution_count": 18,
   "metadata": {},
   "outputs": [
    {
     "data": {
      "text/plain": [
       "6.5"
      ]
     },
     "execution_count": 18,
     "metadata": {},
     "output_type": "execute_result"
    }
   ],
   "source": [
    "# Function to calculate the average first N Prime number \n",
    "def avgNPrimes(n):\n",
    "    primeCount = 0\n",
    "    sum = 0\n",
    "    seqCount = 2\n",
    "    while(primeCount < n):\n",
    "        if isPrime(seqCount):\n",
    "            primeCount += 1\n",
    "            sum += seqCount\n",
    "            #print(seqCount)\n",
    "        seqCount += 1\n",
    "    return sum/n\n",
    "\n",
    "avgNPrimes(10)"
   ]
  },
  {
   "cell_type": "code",
   "execution_count": 19,
   "metadata": {},
   "outputs": [
    {
     "name": "stdout",
     "output_type": "stream",
     "text": [
      "1 6 28 496 "
     ]
    }
   ],
   "source": [
    "# Function to generate all Perfect numbers in a given range\n",
    "def perfect(lb,ub):\n",
    "    for each in range(lb,ub+1):\n",
    "        half = each//2\n",
    "        sum=1\n",
    "        for i in range(2,half+1):\n",
    "            if (each%i)==0:\n",
    "                sum+=i\n",
    "        if sum==each:\n",
    "        \n",
    "            print(each,end=\" \")\n",
    "perfect(1 , 1000)"
   ]
  },
  {
   "cell_type": "code",
   "execution_count": 13,
   "metadata": {},
   "outputs": [
    {
     "name": "stdout",
     "output_type": "stream",
     "text": [
      "Enter a number: 29\n",
      "29 is not an Armstrong number\n"
     ]
    }
   ],
   "source": [
    "#Function to generate N odd armstrong numbers\n",
    "num = int(input(\"Enter a number: \"))\n",
    "sum = 0\n",
    "temp = num\n",
    "while temp > 0:\n",
    "    digit = temp % 10\n",
    "    sum += digit ** 3\n",
    "    temp //= 10\n",
    "if num == sum:\n",
    "    print(num,\"is an Armstrong number\")\n",
    "else:\n",
    "    print(num,\"is not an Armstrong number\")\n"
   ]
  },
  {
   "cell_type": "code",
   "execution_count": 21,
   "metadata": {},
   "outputs": [
    {
     "name": "stdout",
     "output_type": "stream",
     "text": [
      "1000\n",
      "1010\n",
      "1020\n"
     ]
    }
   ],
   "source": [
    "#Function to generate Multiplication table for a number in a given range\n",
    "#10 in the range(100, 102) inclusive\n",
    "#10 x 100 = 1000\n",
    "#10 x 101 = 1010\n",
    "#10 x 102 = 1020\n",
    "def table(lb,ub):\n",
    "     for i in range(lb,ub+1):\n",
    "            result= 10*i\n",
    "            print(result)\n",
    "table(100,102)"
   ]
  },
  {
   "cell_type": "code",
   "execution_count": 5,
   "metadata": {},
   "outputs": [
    {
     "data": {
      "text/plain": [
       "98"
      ]
     },
     "execution_count": 5,
     "metadata": {},
     "output_type": "execute_result"
    }
   ],
   "source": [
    "#you are given three numbers ,a , b and c. write a program ro find the largest number which is less than or equal to c and leaves remaiander b when divided by a.\n",
    "\n",
    "\n",
    "def cal (a,b,c):\n",
    "        for i in range(c,a-1,-1):\n",
    "            if i%a==b:\n",
    "                return i\n",
    "        return -1\n",
    "cal (3,2,100)"
   ]
  },
  {
   "cell_type": "code",
   "execution_count": 24,
   "metadata": {},
   "outputs": [
    {
     "name": "stdout",
     "output_type": "stream",
     "text": [
      "10 57  49\n",
      "1\n"
     ]
    }
   ],
   "source": [
    "# You have been given 3 integers - l, r and k. Find how many numbers between l and r (both inclusive) are divisible by k. \n",
    "#You do not need to print these numbers, you just have to find their count.\n",
    "\n",
    "\n",
    "def count(l,r,k):\n",
    "    c=0\n",
    "    for i in range(l,r+1):\n",
    "        if i%k==0:\n",
    "            c+=1\n",
    "    print(c)\n",
    "s=input()\n",
    "s=s.split()\n",
    "\n",
    "i=int(s[0])\n",
    "j=int(s[1])\n",
    "k=int(s[2])\n",
    "if(i<=1000 and j<=1000 and k<=1000): \n",
    "    count(i,j,k)"
   ]
  },
  {
   "cell_type": "code",
   "execution_count": null,
   "metadata": {},
   "outputs": [],
   "source": [
    "# Consider All lowercase Alphabets of the English language. Here we consider each alphabet from a to z to have a certain \n",
    "#weight. The weight of the alphabet a is considered to be 1, b to be 2, c to be 3 and so on until z has a weight of 26. \n",
    "#In short, the weight of the alphabet a is 1, and the weight of all other alphabets is the weight of itsprevious alphabet + 1.\n",
    "#Now, you have been given a String S consisting of lowercase English characters. \n",
    "#You need to find the summation of weight of each character in this String.\n",
    "#For example, Consider the String aba\n",
    "#Here, the first character a has a weight of 1, the second character b has 2 and the third character a again\n",
    "#has a weight of 1. So the summation here is equal to : 1+2+1=4\n",
    "\n",
    "\n",
    "def charsum(s):\n",
    "    sum=0\n",
    "    for i in s:\n",
    "        sum=sum+ord(i)-96\n",
    "    print (sum)\n",
    "n=input()\n",
    "charsum(n)\n",
    "\n",
    "#count alpha"
   ]
  },
  {
   "cell_type": "code",
   "execution_count": 2,
   "metadata": {},
   "outputs": [
    {
     "name": "stdout",
     "output_type": "stream",
     "text": [
      "2\n",
      "6\n",
      "1\n",
      "NO\n",
      "6\n",
      "YES\n",
      "7\n",
      "NO\n",
      "8\n",
      "NO\n",
      "9\n",
      "NO\n",
      "10\n",
      "YES\n"
     ]
    }
   ],
   "source": [
    "# function to determine if a number isspecial number or not\n",
    "def specialnumber(n,p):\n",
    "    if numberofprimefactors(n) >=p:\n",
    "        return True\n",
    "    return False\n",
    "\n",
    "#function to check if number is prime\n",
    "def prime(n):\n",
    "    flag = 1\n",
    "    if n==2:\n",
    "        return True\n",
    "    for i in range(2,n//2 +1):\n",
    "        if n%i==0:\n",
    "            flag = 0\n",
    "            return False\n",
    "    if flag == 1:\n",
    "        return True\n",
    "prime(100)        \n",
    "#function to determine number of prime factors for a given number\n",
    "def numberofprimefactors(n):\n",
    "    if prime(n):\n",
    "        return 1\n",
    "    count=0\n",
    "    for i in range(2,n//2+1):\n",
    "        if prime(i) and n%i==0:\n",
    "            count +=1\n",
    "    return count\n",
    "def solution2():\n",
    "    p = int(input())\n",
    "    t = int(input())\n",
    "    for i in range(0,t):\n",
    "        n= int(input())\n",
    "        if specialnumber(n,p):\n",
    "            print(\"YES\")\n",
    "        else:\n",
    "            print(\"NO\")\n",
    "solution2()"
   ]
  },
  {
   "cell_type": "code",
   "execution_count": 32,
   "metadata": {},
   "outputs": [
    {
     "name": "stdout",
     "output_type": "stream",
     "text": [
      "-6\n"
     ]
    }
   ],
   "source": [
    "# Farthest from zero\n",
    "\n",
    "li=[-1,-2,-3,-4,-5,3,4,6,-6]\n",
    "\n",
    "li.sort()\n",
    "\n",
    "p1=[]\n",
    "\n",
    "for i in li:\n",
    "    p1.append(abs(i))\n",
    "p1.sort()\n",
    "\n",
    "if -p1[-1] in li:\n",
    "    print(-p1[-1])\n",
    "else:\n",
    "    print(p1[-1])"
   ]
  },
  {
   "cell_type": "code",
   "execution_count": 33,
   "metadata": {},
   "outputs": [
    {
     "name": "stdout",
     "output_type": "stream",
     "text": [
      "-1\n"
     ]
    }
   ],
   "source": [
    "# # Neartest to zero\n",
    "li=[-1,-2,2,3,1,]\n",
    "li.sort()\n",
    "\n",
    "p1=[]\n",
    "\n",
    "for i in li:\n",
    "    p1.append(abs(i))\n",
    "p1.sort()\n",
    "if -p1[0]in li:\n",
    "    print(-p1[0])\n",
    "else:\n",
    "    print(p1[0])"
   ]
  },
  {
   "cell_type": "code",
   "execution_count": 2,
   "metadata": {},
   "outputs": [
    {
     "data": {
      "text/plain": [
       "2"
      ]
     },
     "execution_count": 2,
     "metadata": {},
     "output_type": "execute_result"
    }
   ],
   "source": [
    "#Function to calculate the factorial of a given number\n",
    "def factorial(n):\n",
    "    fact=1\n",
    "    for i in range(2, n+1):\n",
    "         fact*=i\n",
    "    return fact\n",
    "factorial(2)"
   ]
  },
  {
   "cell_type": "code",
   "execution_count": 36,
   "metadata": {},
   "outputs": [
    {
     "name": "stdout",
     "output_type": "stream",
     "text": [
      "8 4\n"
     ]
    }
   ],
   "source": [
    "#count alphabets and digits\n",
    "\n",
    "s = ' a$26jduevh34b'\n",
    "\n",
    "alphabetscount = 0\n",
    "digitscount = 0\n",
    "for c in s:    \n",
    "    if c.isalpha():\n",
    "        alphabetscount += 1\n",
    "\n",
    "    elif c.isdigit():\n",
    "        digitscount += 1\n",
    "\n",
    "print(alphabetscount, digitscount)"
   ]
  },
  {
   "cell_type": "markdown",
   "metadata": {},
   "source": [
    "# hacker earth basic problems"
   ]
  },
  {
   "cell_type": "code",
   "execution_count": 38,
   "metadata": {},
   "outputs": [
    {
     "name": "stdout",
     "output_type": "stream",
     "text": [
      "aba\n",
      "4\n"
     ]
    }
   ],
   "source": [
    "# Consider All lowercase Alphabets of the English language. Here we consider each alphabet from a to z to have a certain \n",
    "#weight. The weight of the alphabet a is considered to be 1, b to be 2, c to be 3 and so on until z has a weight of 26. \n",
    "#In short, the weight of the alphabet a is 1, and the weight of all other alphabets is the weight of itsprevious alphabet + 1.\n",
    "#Now, you have been given a String S consisting of lowercase English characters. \n",
    "#You need to find the summation of weight of each character in this String.\n",
    "#For example, Consider the String aba\n",
    "#Here, the first character a has a weight of 1, the second character b has 2 and the third character a again\n",
    "#has a weight of 1. So the summation here is equal to : 1+2+1=4\n",
    "\n",
    "\n",
    "def charsum(s):\n",
    "    sum=0\n",
    "    for i in s:\n",
    "        sum=sum+ord(i)-96\n",
    "    print (sum)\n",
    "n=input()\n",
    "charsum(n)\n",
    "\n"
   ]
  },
  {
   "cell_type": "code",
   "execution_count": 26,
   "metadata": {},
   "outputs": [
    {
     "name": "stdout",
     "output_type": "stream",
     "text": [
      "9\n",
      "2 3 5 7 "
     ]
    }
   ],
   "source": [
    "# You are given an integer N. You need to print the series of all prime numbers till N.\n",
    "\n",
    "def pri(n):\n",
    "    for i in range(1,n+1):\n",
    "        count=0\n",
    "        for j in range(1,i+1):\n",
    "            if i%j==0:\n",
    "                count=count+1\n",
    "        if(count==2):\n",
    "            print (i,end=\" \")\n",
    "l=int(input())\n",
    "pri(l)"
   ]
  },
  {
   "cell_type": "code",
   "execution_count": 24,
   "metadata": {
    "scrolled": true
   },
   "outputs": [
    {
     "name": "stdout",
     "output_type": "stream",
     "text": [
      "3\n",
      "sumit mitsu\n",
      "YES\n",
      "ambuj jumba\n",
      "YES\n",
      "abhi hibb\n",
      "NO\n"
     ]
    }
   ],
   "source": [
    "#Given two strings of equal length, you have to tell whether they both strings are identical.\n",
    "\n",
    "#Two strings S1 and S2 are said to be identical, if any of the permutation of string S1 is equal to the string S2. \n",
    "#See Sample explanation for more details.\n",
    "\n",
    "#Input :\n",
    "\n",
    "#First line, contains an intger 'T' denoting no. of test cases.\n",
    "#Each test consists of a single line, containing two space separated strings S1 and S2 of equal length.\n",
    "n=int(input())\n",
    "for i in range(n):\n",
    "    a=[list(i) for i in input().split()]\n",
    "    if sorted (a[0])==sorted(a[1]):\n",
    "        print(\"YES\")\n",
    "    else:\n",
    "        print(\"NO\")\n"
   ]
  },
  {
   "cell_type": "code",
   "execution_count": 3,
   "metadata": {},
   "outputs": [
    {
     "name": "stdout",
     "output_type": "stream",
     "text": [
      "2\n",
      "2\n"
     ]
    }
   ],
   "source": [
    "#factorial\n",
    "def factorial(n):\n",
    "    fact=1\n",
    "    for i in range(1,n+1):\n",
    "        fact=fact*i\n",
    "    print (fact)\n",
    "l=int(input())\n",
    "factorial(l)\n"
   ]
  },
  {
   "cell_type": "code",
   "execution_count": 15,
   "metadata": {},
   "outputs": [
    {
     "name": "stdout",
     "output_type": "stream",
     "text": [
      "SHLKJSHLKJHfhgxchg\n",
      "shlkjshlkjhFHGXCHG"
     ]
    }
   ],
   "source": [
    "#Toggle\n",
    "def toggle(n):\n",
    "    for i in n:\n",
    "        if i==i.lower():\n",
    "            a=i.upper()\n",
    "        elif i==i.upper():\n",
    "            a=i.lower()\n",
    "        print(a,end=\"\")\n",
    "n=input()\n",
    "toggle(n)\n"
   ]
  },
  {
   "cell_type": "code",
   "execution_count": 4,
   "metadata": {},
   "outputs": [
    {
     "name": "stdout",
     "output_type": "stream",
     "text": [
      "2\n",
      "1 44 2 14\n",
      "0 30\n",
      "2 42 8 23\n",
      "5 41\n"
     ]
    }
   ],
   "source": [
    "#duration\n",
    "\n",
    "#Rahul is a very busy persion he dont wan't to waste his time . He keeps account of duration of each and every work.\n",
    "#Now he don't even get time to calculate duration of works, So your job is to count the durations for each work and \n",
    "#give it to rahul.\n",
    "\n",
    "\n",
    "def duration(sh,sm,eh,em):\n",
    "    scm=(sh*60)+sm\n",
    "    ecm=(eh*60)+em\n",
    "    value=ecm-scm\n",
    "    print(value//60,end=\" \")\n",
    "    print(value%60)\n",
    "n=int(input())\n",
    "for i in range(n):\n",
    "    s=input().split()\n",
    "    sh=int(s[0])\n",
    "    sm=int(s[1])\n",
    "    eh=int(s[2])\n",
    "    em=int(s[3])\n",
    "    duration(sh,sm,eh,em)"
   ]
  },
  {
   "cell_type": "code",
   "execution_count": 2,
   "metadata": {},
   "outputs": [
    {
     "name": "stdout",
     "output_type": "stream",
     "text": [
      "9\n",
      "2 3 5 7 "
     ]
    }
   ],
   "source": [
    "#print the series of all prime numbers till N.\n",
    "def pri(n):\n",
    "    for i in range(1,n+1):\n",
    "        count=0\n",
    "        for j in range(1,i+1):\n",
    "            if i%j==0:\n",
    "                count=count+1\n",
    "        if(count==2):\n",
    "            print (i,end=\" \")\n",
    "l=int(input())\n",
    "pri(l)"
   ]
  },
  {
   "cell_type": "code",
   "execution_count": 3,
   "metadata": {},
   "outputs": [
    {
     "name": "stdout",
     "output_type": "stream",
     "text": [
      "aba\n",
      "YES\n"
     ]
    }
   ],
   "source": [
    "# You have been given a String S. You need to find and print whether this string is a palindrome or not. \n",
    "#If yes, print \"YES\" (without quotes), else print \"NO\" (without quotes).\n",
    "\n",
    "\n",
    "def palin(s):\n",
    "    if s==s[::-1]:\n",
    "        print(\"YES\") \n",
    "    else:\n",
    "        print(\"NO\")\n",
    "l=input()\n",
    "palin(l)"
   ]
  },
  {
   "cell_type": "code",
   "execution_count": 1,
   "metadata": {},
   "outputs": [
    {
     "name": "stdout",
     "output_type": "stream",
     "text": [
      "1\n",
      "cde\n",
      "abc\n",
      "4\n"
     ]
    }
   ],
   "source": [
    "#Anagrams\n",
    "\n",
    "for i in range(int(input())):\n",
    "    a=input()\n",
    "    b=input()\n",
    "    a1=[0]*26\n",
    "    b1=[0]*26\n",
    "    for ele in a:\n",
    "        a1[ord(ele)-97]+=1\n",
    "    for ele in b:\n",
    "        b1[ord(ele)-97]+=1\n",
    "        res=0\n",
    "    for i in range(26):\n",
    "         res=res+(abs(a1[i]-b1[i]))\n",
    "    print(res)\n",
    "        "
   ]
  },
  {
   "cell_type": "code",
   "execution_count": 6,
   "metadata": {},
   "outputs": [
    {
     "name": "stdout",
     "output_type": "stream",
     "text": [
      "5 3\n",
      "1 2 3 4 5\n",
      "1 3\n",
      "2\n",
      "2 4\n",
      "3\n",
      "2 5\n",
      "3\n"
     ]
    }
   ],
   "source": [
    "# Function for Play with numbers\n",
    "\n",
    "n,q=map(int,input().split())\n",
    "l=list(map(int,input().split()))\n",
    "z=[]\n",
    "e=0\n",
    "for i in range(0,n):\n",
    "    e+=l[i]\n",
    "    z.append(e)\n",
    "for i in range(0,q):\n",
    "    s,e=map(int,input().split())\n",
    "    if(s==1):\n",
    "        print((z[e-1])//(e-s+1))\n",
    "    else:\n",
    "        print((z[e-1]-z[s-2])//(e-s+1))"
   ]
  },
  {
   "cell_type": "code",
   "execution_count": 7,
   "metadata": {},
   "outputs": [
    {
     "name": "stdout",
     "output_type": "stream",
     "text": [
      "Hello Kirti\n"
     ]
    }
   ],
   "source": [
    "#print Hello Kirti\n",
    "print(\"Hello Kirti\")"
   ]
  },
  {
   "cell_type": "code",
   "execution_count": 1,
   "metadata": {},
   "outputs": [
    {
     "name": "stdout",
     "output_type": "stream",
     "text": [
      "1 10 1\n",
      "10\n"
     ]
    }
   ],
   "source": [
    "#count divisors\n",
    "\n",
    "def count(l,r,k):\n",
    "    count = 0\n",
    "    for i in range(l , r +1):\n",
    "        if i%k == 0:\n",
    "            count = count +1\n",
    "    print (count)\n",
    "s = input()\n",
    "s = s.split()\n",
    "\n",
    "l = int(s[0])\n",
    "r = int(s[1])\n",
    "k = int(s[2])\n",
    "if(l<=1000 and r<=1000 and k<=1000):\n",
    "    count(l,r,k)"
   ]
  },
  {
   "cell_type": "code",
   "execution_count": 27,
   "metadata": {},
   "outputs": [
    {
     "name": "stdout",
     "output_type": "stream",
     "text": [
      "2\n"
     ]
    },
    {
     "data": {
      "text/plain": [
       "120"
      ]
     },
     "execution_count": 27,
     "metadata": {},
     "output_type": "execute_result"
    }
   ],
   "source": [
    "#find product\n",
    "n=int(input())\n",
    "def productList(List) : \n",
    "    result = 1\n",
    "    for x in List: \n",
    "         result = result * x  \n",
    "    return result \n",
    "\n",
    "productList([1,2,3,4,5])"
   ]
  },
  {
   "cell_type": "code",
   "execution_count": 34,
   "metadata": {},
   "outputs": [
    {
     "name": "stdout",
     "output_type": "stream",
     "text": [
      "1\n",
      "1\n",
      "2\n",
      "2\n",
      "88\n",
      "88\n",
      "42\n"
     ]
    }
   ],
   "source": [
    "# Life, the Universe, and Everything\n",
    "k=True\n",
    "while k:\n",
    "    n=int(input())\n",
    "    if n!=42:\n",
    "        print(n,end=\"\\n\")\n",
    "    else:\n",
    "        k=False"
   ]
  },
  {
   "cell_type": "code",
   "execution_count": null,
   "metadata": {},
   "outputs": [],
   "source": []
  },
  {
   "cell_type": "code",
   "execution_count": null,
   "metadata": {},
   "outputs": [],
   "source": []
  }
 ],
 "metadata": {
  "kernelspec": {
   "display_name": "Python 3",
   "language": "python",
   "name": "python3"
  },
  "language_info": {
   "codemirror_mode": {
    "name": "ipython",
    "version": 3
   },
   "file_extension": ".py",
   "mimetype": "text/x-python",
   "name": "python",
   "nbconvert_exporter": "python",
   "pygments_lexer": "ipython3",
   "version": "3.7.3"
  }
 },
 "nbformat": 4,
 "nbformat_minor": 2
}
