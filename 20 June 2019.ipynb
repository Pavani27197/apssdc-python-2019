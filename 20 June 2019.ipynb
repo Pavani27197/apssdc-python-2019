{
 "cells": [
  {
   "cell_type": "markdown",
   "metadata": {},
   "source": [
    "# regular expressions"
   ]
  },
  {
   "cell_type": "markdown",
   "metadata": {},
   "source": [
    "### Day Objectives\n",
    "        - Regular Expressions\n",
    "        - Constructing Regular Expressions for various use cases\n",
    "        - Regular Expressions Module and related in Python\n",
    "        - Improving the Contacts application with name and phone number validation using regular expressions\n",
    "        - File Handling\n",
    "        - Text Files\n",
    "        - Upgrading the Contacts Application to store contact information in a text file"
   ]
  },
  {
   "cell_type": "markdown",
   "metadata": {},
   "source": [
    "#### Regular Expressions\n",
    "- Pattern Matching\n",
    "- Symbolic Notation of a pattern\n",
    "- Pattern : Format which repeats\n",
    "- Pattern(RE) represents The set of all values that match a pattern\n",
    "- [0-9] -> Any digit\n",
    "- [a-z] -> Any lower case alphabet\n",
    "- [2468] -> All single digit multiples of 2\n",
    "- ^[0-9]{1}$ Only single digit numbers\n",
    "\n",
    "- ^[0-9]{3}$ Only 3 digit numbers\n",
    "\n",
    "- [0-9]*0$ -> All multiples of 10\n",
    "\n",
    "- ^([1-9][0-9]*[05])$|^([5])$ -> All multiples of 5\n",
    "\n",
    "- -> All 10 digit numbers\n",
    "\n",
    "- [w][o][r][d] or (word) -> Searching for a 'word'\n",
    "\n",
    "- ^[6-9][0-9]{9}$|^[0][6-9][0-9]{9}|^[+][9][1][6-9][0-9]{9}$ -> Validating Phone number(India)(start with 9876 followed by 9 digits)\n",
    "\n",
    "- -> Email Validation( username@domain.extension )\n",
    "       usernmae:\n",
    "         -length of username : [6 ,15]\n",
    "         - no special character other than_.\n",
    "         should not begin and end with_.\n",
    "         charcter set:all digits and lowercase alphabet----->^[0-9a-z][0-9a-z_.]{4,13}[0-9a-z][@][a-z0-9]{3,18}[.][a-z]{2,4}$\n",
    "    domain:\n",
    "         length of domain :[3,18]\n",
    "         no special characters\n",
    "         -charcater set :all digits and lowercase alphabet\n",
    "    extention\n",
    "         length of domain :[2,4]\n",
    "         no special characters\n",
    "         -charcater set : lowercase alphabet\n",
    " \n",
    " \n",
    " any string of length 5 start with a and end with z,between any alphabet or number or symbols in any number of times---->^[a]...[z]$\n",
    "        abcdz\n",
    "        a%6*z     ( . means any single character)\n",
    "        a#2#z     (.* means any multiple characters)\n",
    "        \n",
    " \n",
    " any string with any length ---->^[a].*[z]$\n",
    " "
   ]
  },
  {
   "cell_type": "code",
   "execution_count": 5,
   "metadata": {},
   "outputs": [
    {
     "data": {
      "text/plain": [
       "True"
      ]
     },
     "execution_count": 5,
     "metadata": {},
     "output_type": "execute_result"
    }
   ],
   "source": [
    "#function to validate a phone number\n",
    "# Function to validate a phone number\n",
    "import re\n",
    "\n",
    "def phonenumbervalidator(number):\n",
    "    pattern = '^[6-9][0-9]{9}$|^[0][6-9][0-9]{9}|^[+][9][1][6-9][0-9]{9}$'\n",
    "    if re.match(pattern,str(number)):\n",
    "        return True\n",
    "    return False\n",
    "phonenumbervalidator(9876467828)"
   ]
  },
  {
   "cell_type": "code",
   "execution_count": 6,
   "metadata": {},
   "outputs": [
    {
     "data": {
      "text/plain": [
       "True"
      ]
     },
     "execution_count": 6,
     "metadata": {},
     "output_type": "execute_result"
    }
   ],
   "source": [
    "def emailidvalidator(email):\n",
    "    pattern='^[0-9a-z][0-9a-z_.]{4,13}[@][0-9a-z]{3,18}[.][a-z]{2,4}|[.][a-z]{2,4}$'\n",
    "    if re.match(pattern,email):\n",
    "        return True\n",
    "    return False\n",
    "\n",
    "emailidvalidator(\"pavani.123@gmail.com\")"
   ]
  },
  {
   "cell_type": "code",
   "execution_count": 7,
   "metadata": {},
   "outputs": [
    {
     "name": "stdout",
     "output_type": "stream",
     "text": [
      "name3 added Succesfully\n"
     ]
    }
   ],
   "source": [
    "contacts ={\"alekhya\":[9876543212,'alekhya@domain.ext'],\"pavani\":[123456789,'pavani123@domain.ext']}\n",
    "def addContact(name,phone,email):\n",
    "    # Verify the contact doesnot already exist \n",
    "    if name in contacts:\n",
    "        print(name,\"already exists.\")\n",
    "        return\n",
    "    else:\n",
    "        if not phonenumbervalidator(phone):\n",
    "            print(\"Invalid Phone number\")\n",
    "            return\n",
    "        if not emailidvalidator(email):\n",
    "            print(\"Invalid Email address\")\n",
    "            return\n",
    "        newcontact =[]\n",
    "        newcontact.append(phone)\n",
    "        newcontact.append(email)\n",
    "        contacts[name]=newcontact\n",
    "        print(name,\"added Succesfully\")\n",
    "    return\n",
    "\n",
    "addContact(\"name3\",9872398678,\"name321@gmail.com\")"
   ]
  },
  {
   "cell_type": "code",
   "execution_count": null,
   "metadata": {},
   "outputs": [],
   "source": []
  },
  {
   "cell_type": "code",
   "execution_count": 9,
   "metadata": {},
   "outputs": [
    {
     "name": "stdout",
     "output_type": "stream",
     "text": [
      "name3\n",
      "Phone: 9872398678\n",
      "Email: name321@gmail.com\n"
     ]
    }
   ],
   "source": [
    "def searchContacts(name):\n",
    "    if name in contacts:\n",
    "        print(name)\n",
    "        print(\"Phone:\",contacts[name][0])\n",
    "        print(\"Email:\",contacts[name][1])\n",
    "    else:\n",
    "        print(\"%s does not exist\" % name)\n",
    "    return\n",
    "\n",
    "searchContacts(\"name3\")"
   ]
  },
  {
   "cell_type": "code",
   "execution_count": 10,
   "metadata": {},
   "outputs": [
    {
     "name": "stdout",
     "output_type": "stream",
     "text": [
      "2 contacts  added successfully\n"
     ]
    },
    {
     "data": {
      "text/plain": [
       "dict_items([('alekhya', [9876543212, 'alekhya@domain.ext']), ('pavani', [123456789, 'pavani123@domain.ext']), ('name3', [9872398678, 'name321@gmail.com']), ('surya', [7898070097, 'name@domain.ext']), ('name1', [8456789786, 'name1@domain.ext'])])"
      ]
     },
     "execution_count": 10,
     "metadata": {},
     "output_type": "execute_result"
    }
   ],
   "source": [
    "def importContacts(newConctacts):\n",
    "    contacts.update(newContacts)\n",
    "    print(len(newContacts.keys()),\"contacts  added successfully\")\n",
    "    return\n",
    "\n",
    "newContacts={\"surya\":[7898070097,'name@domain.ext'],\"name1\":[8456789786,'name1@domain.ext']}\n",
    "importContacts(newContacts)\n",
    "contacts.items()"
   ]
  },
  {
   "cell_type": "code",
   "execution_count": 11,
   "metadata": {},
   "outputs": [
    {
     "name": "stdout",
     "output_type": "stream",
     "text": [
      "alekhya \n",
      " Phone: 9876543212 \n",
      " Email: alekhya@domain.ext\n",
      "pavani \n",
      " Phone: 123456789 \n",
      " Email: pavani123@domain.ext\n",
      "name3 \n",
      " Phone: 9872398678 \n",
      " Email: name321@gmail.com\n",
      "surya \n",
      " Phone: 7898070097 \n",
      " Email: name@domain.ext\n",
      "name1 \n",
      " Phone: 8456789786 \n",
      " Email: name1@domain.ext\n"
     ]
    }
   ],
   "source": [
    "def listAllContacts():\n",
    "    for contact,info in contacts.items():\n",
    "        print(contact,\"\\n\",\"Phone:\",info[0],\"\\n\",\"Email:\",info[1])\n",
    "    return\n",
    "listAllContacts()"
   ]
  },
  {
   "cell_type": "markdown",
   "metadata": {},
   "source": [
    "### file handling in python:"
   ]
  },
  {
   "cell_type": "markdown",
   "metadata": {},
   "source": [
    "File - Document containing information residing \n",
    "types -text,pdf,csv etc\n",
    "FileI/O -channelling I/O data to files\n",
    "default I/O channels-keyboard/screen\n",
    "chnage I/O channel to files for reading and writing\n",
    "read a file - input from file\n",
    "write to a file"
   ]
  },
  {
   "cell_type": "code",
   "execution_count": 1,
   "metadata": {},
   "outputs": [
    {
     "name": "stdout",
     "output_type": "stream",
     "text": [
      "new data\n",
      "name1,9821098080,name1_276@gmail.com\n",
      "\n"
     ]
    }
   ],
   "source": [
    "#function to read a file\n",
    "def readFile(filename):\n",
    "    f=open(filename,'r')\n",
    "    filedata=f.read()\n",
    "    f.close()\n",
    "    return filedata\n",
    "filename='datafiles/data.txt'\n",
    "filedata =readFile(filename)\n",
    "for line in filedata.split('\\n'):\n",
    "    print(line)"
   ]
  },
  {
   "cell_type": "code",
   "execution_count": 1,
   "metadata": {},
   "outputs": [],
   "source": [
    "#function to write data into a file\n",
    "def writeFile(filename,filedata):\n",
    "    with open(filename,'w') as f:\n",
    "        f.write(filedata)\n",
    "    return\n",
    "filename='datafiles/data.txt'\n",
    "writeFile(filename,\"new data\\n\")\n",
    "    \n",
    "    "
   ]
  },
  {
   "cell_type": "code",
   "execution_count": 2,
   "metadata": {},
   "outputs": [],
   "source": [
    "#function append data to a file(add to existing data)\n",
    "def appenddata(filename,filedata):\n",
    "    with open (filename,'a') as f:\n",
    "        f.write(filedata)\n",
    "    return\n",
    "filedata=\"Line2\\nLine3\"\n",
    "appenddata(filename,filedata)\n"
   ]
  },
  {
   "cell_type": "code",
   "execution_count": 3,
   "metadata": {},
   "outputs": [],
   "source": [
    "def appenddata(filename,filedata):\n",
    "    with open (filename,'a') as f:\n",
    "        for line in filedata:\n",
    "            f.write('\\n'+line)\n",
    "    return\n",
    "filedata=[\"Line4\",\"Line5\"]\n",
    "appenddata(filename,filedata)\n"
   ]
  },
  {
   "cell_type": "code",
   "execution_count": 6,
   "metadata": {},
   "outputs": [],
   "source": [
    "def appenddata(filename,filedata):\n",
    "    with open(filename,'a') as f:\n",
    "         f.writelines(\"\\n\")\n",
    "    return \n",
    "filedata='datafiles/data.txt'\n",
    "appenddata(filename,filedata)"
   ]
  },
  {
   "cell_type": "code",
   "execution_count": null,
   "metadata": {},
   "outputs": [],
   "source": []
  }
 ],
 "metadata": {
  "kernelspec": {
   "display_name": "Python 3",
   "language": "python",
   "name": "python3"
  },
  "language_info": {
   "codemirror_mode": {
    "name": "ipython",
    "version": 3
   },
   "file_extension": ".py",
   "mimetype": "text/x-python",
   "name": "python",
   "nbconvert_exporter": "python",
   "pygments_lexer": "ipython3",
   "version": "3.7.3"
  }
 },
 "nbformat": 4,
 "nbformat_minor": 2
}
