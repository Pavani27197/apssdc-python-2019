{
 "cells": [
  {
   "cell_type": "markdown",
   "metadata": {},
   "source": [
    "# regular expressions"
   ]
  },
  {
   "cell_type": "markdown",
   "metadata": {},
   "source": [
    "- pattern matching \n",
    "- symbolic notation of pattern \n",
    "     - pattern:format which repeats\n",
    "     - pattren (RE) represnts the set of all values \n",
    "- [0-9] ->any digit\n",
    "- [a-z] ->any lowercase alphabet\n",
    "- [2468]->all single multiples of 2\n",
    "- ^[0-9]{1}$ -only single digit numbers\n",
    "- ^[0-9]{3}$ -only 3 digit \n",
    "\n",
    "1.multiplications of 5  --> (^([1-9][0-9]*[05])$|^([5])$)\n",
    "2. searching for a word --> (print)      or    [p][r][i][n][t]$    or [p][r][i][n][t]\n",
    "3.validating phonenumber --> ^[6-9][0-9]{9}$|^[0][6-9][0-9]{9}$|^[+][9][1][6-9][0-9]{9}$\n",
    "4.email validation   ----->"
   ]
  },
  {
   "cell_type": "code",
   "execution_count": null,
   "metadata": {},
   "outputs": [],
   "source": []
  }
 ],
 "metadata": {
  "kernelspec": {
   "display_name": "Python 3",
   "language": "python",
   "name": "python3"
  },
  "language_info": {
   "codemirror_mode": {
    "name": "ipython",
    "version": 3
   },
   "file_extension": ".py",
   "mimetype": "text/x-python",
   "name": "python",
   "nbconvert_exporter": "python",
   "pygments_lexer": "ipython3",
   "version": "3.7.3"
  }
 },
 "nbformat": 4,
 "nbformat_minor": 2
}
