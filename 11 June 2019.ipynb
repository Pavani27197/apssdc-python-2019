{
 "cells": [
  {
   "cell_type": "markdown",
   "metadata": {},
   "source": [
    "#  Markdown Basics"
   ]
  },
  {
   "cell_type": "markdown",
   "metadata": {},
   "source": [
    "## Markdown Basics"
   ]
  },
  {
   "cell_type": "markdown",
   "metadata": {},
   "source": [
    "### Markdown Basics"
   ]
  },
  {
   "cell_type": "markdown",
   "metadata": {},
   "source": [
    "#### Markdown Basics"
   ]
  },
  {
   "cell_type": "markdown",
   "metadata": {},
   "source": [
    "##### Markdown Basics"
   ]
  },
  {
   "cell_type": "markdown",
   "metadata": {},
   "source": [
    "###### Markdown Basics"
   ]
  },
  {
   "cell_type": "markdown",
   "metadata": {},
   "source": [
    "* **Bold**"
   ]
  },
  {
   "cell_type": "markdown",
   "metadata": {},
   "source": [
    "* *itallic*"
   ]
  },
  {
   "cell_type": "markdown",
   "metadata": {},
   "source": [
    "* ***itallic bold***"
   ]
  },
  {
   "cell_type": "markdown",
   "metadata": {},
   "source": [
    "* Normal text\n",
    "     * sublist1\n",
    "     * sublist2"
   ]
  },
  {
   "cell_type": "markdown",
   "metadata": {},
   "source": [
    "1. ordered list element 1\n",
    "2. ordered list element 2"
   ]
  },
  {
   "cell_type": "markdown",
   "metadata": {},
   "source": [
    "[Jupter Logo](Jupyterlogo.png)"
   ]
  },
  {
   "cell_type": "markdown",
   "metadata": {},
   "source": [
    "# python basics\n",
    "      1. Scripting\n",
    "      2. Object Oriented\n",
    "      3. Functional"
   ]
  },
  {
   "cell_type": "code",
   "execution_count": 1,
   "metadata": {},
   "outputs": [
    {
     "name": "stdout",
     "output_type": "stream",
     "text": [
      "Good Afternoon !||Hello Python\n"
     ]
    }
   ],
   "source": [
    "# Python Comments\n",
    "\n",
    "print(\"Good Afternoon\", \"!\", end=\"||\") \n",
    "print(\"Hello Python\")"
   ]
  },
  {
   "cell_type": "code",
   "execution_count": 15,
   "metadata": {},
   "outputs": [
    {
     "data": {
      "text/plain": [
       "123456"
      ]
     },
     "execution_count": 15,
     "metadata": {},
     "output_type": "execute_result"
    }
   ],
   "source": [
    "## assignment same value\n",
    "\n",
    "n1 = 123456 \n",
    "\n",
    "n2 = n3 = n4 = n1 \n",
    "\n",
    "n1"
   ]
  },
  {
   "cell_type": "code",
   "execution_count": 7,
   "metadata": {},
   "outputs": [
    {
     "name": "stdout",
     "output_type": "stream",
     "text": [
      "123 234 345\n"
     ]
    }
   ],
   "source": [
    "#different assignment values\n",
    "a, b, c = 123, 234, 345 \n",
    "\n",
    "print(a, b, c)\n"
   ]
  },
  {
   "cell_type": "markdown",
   "metadata": {},
   "source": [
    "* datatypes & conversion\n",
    "     * int\n",
    "     * float\n",
    "     * string\n",
    "        "
   ]
  },
  {
   "cell_type": "code",
   "execution_count": 11,
   "metadata": {},
   "outputs": [
    {
     "data": {
      "text/plain": [
       "int"
      ]
     },
     "execution_count": 11,
     "metadata": {},
     "output_type": "execute_result"
    }
   ],
   "source": [
    "type(a)\n",
    "\n",
    "\n",
    "\n",
    "f1 = 12.345\n",
    "type(f1)\n",
    "\n"
   ]
  },
  {
   "cell_type": "code",
   "execution_count": 12,
   "metadata": {},
   "outputs": [
    {
     "data": {
      "text/plain": [
       "str"
      ]
     },
     "execution_count": 12,
     "metadata": {},
     "output_type": "execute_result"
    }
   ],
   "source": [
    "s1 = \"Python\"\n",
    "type(s1)"
   ]
  },
  {
   "cell_type": "code",
   "execution_count": 13,
   "metadata": {},
   "outputs": [
    {
     "data": {
      "text/plain": [
       "float"
      ]
     },
     "execution_count": 13,
     "metadata": {},
     "output_type": "execute_result"
    }
   ],
   "source": [
    "f1 = 12.345\n",
    "type(f1)"
   ]
  },
  {
   "cell_type": "code",
   "execution_count": 14,
   "metadata": {},
   "outputs": [
    {
     "data": {
      "text/plain": [
       "12.0"
      ]
     },
     "execution_count": 14,
     "metadata": {},
     "output_type": "execute_result"
    }
   ],
   "source": [
    "float(str(int(f1)))"
   ]
  },
  {
   "cell_type": "markdown",
   "metadata": {},
   "source": [
    "* Arithmetic Operations\n",
    "     * +\n",
    "     * -\n",
    "     * *\n",
    "     * /\n",
    "     * %"
   ]
  },
  {
   "cell_type": "code",
   "execution_count": 22,
   "metadata": {},
   "outputs": [
    {
     "data": {
      "text/plain": [
       "6130687873308026945890176790042303730066739281"
      ]
     },
     "execution_count": 22,
     "metadata": {},
     "output_type": "execute_result"
    }
   ],
   "source": [
    "n1 % 11\n",
    "\n",
    "n3 = n2 ** 12\n",
    "\n",
    "type(n3)\n",
    "len(str(n3))\n",
    "\n",
    "atoms = 10 ** 82\n",
    "len(str(atoms))\n",
    "type(str(atoms))\n",
    "\n",
    "122321 ** 9"
   ]
  },
  {
   "cell_type": "code",
   "execution_count": 25,
   "metadata": {},
   "outputs": [
    {
     "name": "stdout",
     "output_type": "stream",
     "text": [
      "FALSE\n"
     ]
    }
   ],
   "source": [
    "#Conditionals\n",
    "if atoms < 10 ** 9:\n",
    "    print(\"TRUE\")\n",
    "else:\n",
    "    print(\"FALSE\")\n"
   ]
  },
  {
   "cell_type": "code",
   "execution_count": 26,
   "metadata": {},
   "outputs": [
    {
     "name": "stdout",
     "output_type": "stream",
     "text": [
      "Odd\n"
     ]
    }
   ],
   "source": [
    "# Check if a number is Even\n",
    "\n",
    "n = 123\n",
    "if n % 2 == 0:\n",
    "    print(\"Even\")\n",
    "else:\n",
    "    print(\"Odd\")"
   ]
  },
  {
   "cell_type": "code",
   "execution_count": 28,
   "metadata": {},
   "outputs": [
    {
     "name": "stdout",
     "output_type": "stream",
     "text": [
      "Enter the first number-1\n",
      "Enter the second number-2\n",
      "Enter the third number-0\n",
      "0 is the greatest\n"
     ]
    }
   ],
   "source": [
    "# Find the greatest of 3 numbers\n",
    "\n",
    "n1 = int(input(\"Enter the first number\"))\n",
    "n2 = int(input(\"Enter the second number\"))\n",
    "n3 = int(input(\"Enter the third number\"))\n",
    "\n",
    "if n1 > n2 and n1 > n3:\n",
    "    print(n1, \"is the greatest\")\n",
    "elif n2 > n3:\n",
    "    print(n2, \"is the greatest\")\n",
    "else:\n",
    "    print(n3, \"is the greatest\")"
   ]
  },
  {
   "cell_type": "code",
   "execution_count": 29,
   "metadata": {},
   "outputs": [
    {
     "name": "stdout",
     "output_type": "stream",
     "text": [
      "Not a Leap Year\n"
     ]
    }
   ],
   "source": [
    "# Check if a year is a Leap year\n",
    "year = 1234\n",
    "if year % 400 == 0 or (year % 100 != 0 and year % 4 == 0):\n",
    "    print(\"Leap Year\")\n",
    "else:\n",
    "    print(\"Not a Leap Year\")"
   ]
  },
  {
   "cell_type": "code",
   "execution_count": 30,
   "metadata": {},
   "outputs": [
    {
     "name": "stdout",
     "output_type": "stream",
     "text": [
      "Number exists in the given range\n"
     ]
    }
   ],
   "source": [
    "# Check if a number exists in a given range(inclusive)\n",
    "\n",
    "n1 = 123\n",
    "lb = 50\n",
    "ub = 150\n",
    "\n",
    "if n1 >= lb and n1 <= ub:\n",
    "    print(\"Number exists in the given range\")\n",
    "else:\n",
    "    print(n1, \"does not exist in the given range\")"
   ]
  },
  {
   "cell_type": "code",
   "execution_count": 31,
   "metadata": {},
   "outputs": [
    {
     "name": "stdout",
     "output_type": "stream",
     "text": [
      "9\n"
     ]
    }
   ],
   "source": [
    "# Calculate the number of digits in a number\n",
    "n1 = 134245925\n",
    "print(len(str(n1)))"
   ]
  },
  {
   "cell_type": "code",
   "execution_count": 32,
   "metadata": {},
   "outputs": [
    {
     "name": "stdout",
     "output_type": "stream",
     "text": [
      "134245925 is not a multiple of 10\n"
     ]
    }
   ],
   "source": [
    "# Check if a number is a multiple of 10\n",
    "if n % 10 == 0:\n",
    "    print(n1, \"is a multiple of 10\")\n",
    "else:\n",
    "    print(n1, \"is not a multiple of 10\")"
   ]
  },
  {
   "cell_type": "code",
   "execution_count": 33,
   "metadata": {},
   "outputs": [
    {
     "name": "stdout",
     "output_type": "stream",
     "text": [
      "134245925 is not a factor of 10\n"
     ]
    }
   ],
   "source": [
    "# Check if a number is a factor of 1000\n",
    "if 1000 % n1 == 0:\n",
    "    print(n1, \"is a factor of 10\")\n",
    "else:\n",
    "    print(n1, \"is not a factor of 10\")"
   ]
  },
  {
   "cell_type": "code",
   "execution_count": 35,
   "metadata": {},
   "outputs": [
    {
     "name": "stdout",
     "output_type": "stream",
     "text": [
      "123456 is not equal to python\n"
     ]
    }
   ],
   "source": [
    "# Check if given string is equal to a number\n",
    "s1 = \"python\"\n",
    "n1 = 123456\n",
    "if str(n1) == s1:\n",
    "    print(n1, \"is equal to\", s1)\n",
    "else:\n",
    "    print(n1, \"is not equal to\", s1)\n"
   ]
  },
  {
   "cell_type": "code",
   "execution_count": 37,
   "metadata": {},
   "outputs": [
    {
     "data": {
      "text/plain": [
       "11.090536506409418"
      ]
     },
     "execution_count": 37,
     "metadata": {},
     "output_type": "execute_result"
    }
   ],
   "source": [
    "# Calculate the Square root of a number without functions\n",
    "n1 = 123\n",
    "n1 ** 0.5\n"
   ]
  },
  {
   "cell_type": "code",
   "execution_count": 38,
   "metadata": {},
   "outputs": [
    {
     "name": "stdout",
     "output_type": "stream",
     "text": [
      "31622400000000000\n"
     ]
    }
   ],
   "source": [
    "# Calculate the number of nano seconds in a \n",
    "#given year(considering leap year logic)\n",
    "year = 2016\n",
    "if year % 400 == 0 or (year % 100 != 0 and year % 4 == 0):\n",
    "    print(366 * 24 * 60 * 60 * (10**9))\n",
    "else:\n",
    "    print(365 * 24 * 60 * 60 * (10**9))"
   ]
  },
  {
   "cell_type": "code",
   "execution_count": null,
   "metadata": {},
   "outputs": [],
   "source": []
  }
 ],
 "metadata": {
  "kernelspec": {
   "display_name": "Python 3",
   "language": "python",
   "name": "python3"
  },
  "language_info": {
   "codemirror_mode": {
    "name": "ipython",
    "version": 3
   },
   "file_extension": ".py",
   "mimetype": "text/x-python",
   "name": "python",
   "nbconvert_exporter": "python",
   "pygments_lexer": "ipython3",
   "version": "3.7.3"
  },
  "widgets": {
   "application/vnd.jupyter.widget-state+json": {
    "state": {},
    "version_major": 2,
    "version_minor": 0
   }
  }
 },
 "nbformat": 4,
 "nbformat_minor": 2
}
