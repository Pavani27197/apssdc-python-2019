{
 "cells": [
  {
   "cell_type": "code",
   "execution_count": 1,
   "metadata": {},
   "outputs": [
    {
     "data": {
      "text/plain": [
       "[1, 2, 3]"
      ]
     },
     "execution_count": 1,
     "metadata": {},
     "output_type": "execute_result"
    }
   ],
   "source": [
    "#function to get unique elements in a list\n",
    "#[1,2,3,3,2,1]-->[1,2,3]\n",
    "#create unique list\n",
    "def uniquedata(li):\n",
    "    #create an empty unique list\n",
    "    unique=[]\n",
    "    #every element in the main list,\n",
    "    #check if it exists in the unique list\n",
    "    #if it does not exist,add it to unique list\n",
    "    #else if it already exists,move on to the next element\n",
    "    for element in li:\n",
    "        if element not in unique:\n",
    "            unique.append(element)\n",
    "    return unique\n",
    "li=[1,2,3,3,2,1]\n",
    "uniquedata(li)"
   ]
  },
  {
   "cell_type": "code",
   "execution_count": 1,
   "metadata": {},
   "outputs": [
    {
     "data": {
      "text/plain": [
       "3"
      ]
     },
     "execution_count": 1,
     "metadata": {},
     "output_type": "execute_result"
    }
   ],
   "source": [
    "# Function to count the number of unique words in a text file\n",
    "#unique datacount\n",
    "def uniqueDataCount(li):\n",
    "    \n",
    "    #Create an empty unique list\n",
    "    emptylist=[]\n",
    "    #For every element in the main list.\n",
    "    #check if it exists in the unique list.\n",
    "    # If it does not exist, add it to unique list\n",
    "    # else if it already exists,move on to\n",
    "    for element in li:\n",
    "        if element not in emptylist:\n",
    "            emptylist.append(element)\n",
    "    return len(emptylist)\n",
    "li=[1,2,3,3,2,1]\n",
    "uniqueDataCount(li)\n",
    "\n"
   ]
  },
  {
   "cell_type": "code",
   "execution_count": 6,
   "metadata": {},
   "outputs": [
    {
     "data": {
      "text/plain": [
       "['datafiles/data.txt']"
      ]
     },
     "execution_count": 6,
     "metadata": {},
     "output_type": "execute_result"
    }
   ],
   "source": [
    "import re\n",
    "def wordcountFile(filepath):\n",
    "    pattern='[ \\n]'\n",
    "    filepath='datafiles/data.txt'\n",
    "    filedata =filepath\n",
    "    count=len(re.split(pattern,filedata))\n",
    "    return count\n",
    "wordcountFile(filepath)\n",
    "def wordFromFile(filepath):\n",
    "    pattern='[ \\n]'\n",
    "    filepath='datafiles/data.txt'\n",
    "    filedata =filepath\n",
    "    allWordsList=re.split(pattern,filedata)\n",
    "    return allWordsList\n",
    "filepath='datafiles/data.txt'\n",
    "wordFromFile(filepath)"
   ]
  },
  {
   "cell_type": "code",
   "execution_count": 7,
   "metadata": {},
   "outputs": [
    {
     "data": {
      "text/plain": [
       "{'datafiles/data.txt': 1}"
      ]
     },
     "execution_count": 7,
     "metadata": {},
     "output_type": "execute_result"
    }
   ],
   "source": [
    "# Function to print the frequency count of all words in a file\n",
    "# Frequency Distribution\n",
    "\n",
    "# Data in Line 1\n",
    "# Data in Line 2\n",
    "# Data in Line 3\n",
    "# O/P\n",
    "# Data : 3\n",
    "# in : 3\n",
    "# Line : 3\n",
    "# 1 : 1\n",
    "# 2 : 1\n",
    "# 3 : 1\n",
    "def FreqDistributionOfWords1(filepath):\n",
    "    #Dictionary to be used\n",
    "        # keys-> unique words\n",
    "        #values -> count of unique words\n",
    "    #Two lists\n",
    "        # AllWords list -\n",
    "        # UniqueWords list -\n",
    "    # Set\n",
    "    allwords = wordsFromFile(filepath)\n",
    "    uniquewords=uniqueData(filepath)\n",
    "    \n",
    "    for word in uniquewords:\n",
    "        count = allwords.count(word)\n",
    "        print(word,':',count)\n",
    "    return\n",
    "def FreqDistributionOfWords2(filepath):\n",
    "    allwords =wordFromFile(filepath)\n",
    "    wordFrequency={}\n",
    "    \n",
    "    for word in allwords:\n",
    "        if word not in wordFrequency.keys():\n",
    "            wordFrequency[word]=1\n",
    "        else:\n",
    "            wordFrequency[word] +=1\n",
    "    return wordFrequency\n",
    "filepath='datafiles/data.txt'\n",
    "FreqDistributionOfWords2(filepath)"
   ]
  },
  {
   "cell_type": "code",
   "execution_count": 15,
   "metadata": {},
   "outputs": [
    {
     "name": "stdout",
     "output_type": "stream",
     "text": [
      "['new data', 'Line2', 'Line3', 'Line4', 'Line5', '', '', '']\n"
     ]
    },
    {
     "data": {
      "text/plain": [
       "8"
      ]
     },
     "execution_count": 15,
     "metadata": {},
     "output_type": "execute_result"
    }
   ],
   "source": [
    "#char count\n",
    "# Read a File - File should Exist in some part of the sotorage (Read Mode)\n",
    "\n",
    "# Write to a File - Existing( append mode)  or New File(Write mode)\n",
    "def readfile(filepath):\n",
    "    with open(filepath, 'r') as f:\n",
    "        filedata = f.read()\n",
    "        lines=filedata.split('\\n')\n",
    "    return lines\n",
    "\n",
    "filepath = 'datafiles/data.txt'\n",
    "\n",
    "print(readfile(filepath))\n",
    "def charcount(filepath):\n",
    "    count=len(readfile(filepath))\n",
    "    return count\n",
    "charcount('datafiles/data.txt')"
   ]
  },
  {
   "cell_type": "code",
   "execution_count": 16,
   "metadata": {},
   "outputs": [
    {
     "name": "stdout",
     "output_type": "stream",
     "text": [
      "['n', 'e', 'w', ' ', 'd', 'a', 't', '\\n', 'L', 'i', '2', '3', '4', '5']\n"
     ]
    }
   ],
   "source": [
    "# Function to find the unique words of the data in a file\n",
    "def Unique(filePath):\n",
    "    unique=[]\n",
    "    with open(filePath, 'r') as f:\n",
    "        filedata=f.read()\n",
    "        for i in filedata:\n",
    "            if i not in unique:\n",
    "                unique.append(i)\n",
    "        print(unique)\n",
    "\n",
    "filePath = 'datafiles/data.txt'\n",
    "Unique(filePath)"
   ]
  },
  {
   "cell_type": "code",
   "execution_count": null,
   "metadata": {},
   "outputs": [],
   "source": [
    "\n",
    "\n",
    "\n",
    "\n"
   ]
  },
  {
   "cell_type": "code",
   "execution_count": null,
   "metadata": {},
   "outputs": [],
   "source": [
    "\n"
   ]
  },
  {
   "cell_type": "code",
   "execution_count": 18,
   "metadata": {},
   "outputs": [
    {
     "data": {
      "text/plain": [
       "[0, 1, 2, 3, 4, 5, 6, 7, 8, 9]"
      ]
     },
     "execution_count": 18,
     "metadata": {},
     "output_type": "execute_result"
    }
   ],
   "source": [
    "list(range(0,10))"
   ]
  },
  {
   "cell_type": "code",
   "execution_count": null,
   "metadata": {},
   "outputs": [],
   "source": []
  }
 ],
 "metadata": {
  "kernelspec": {
   "display_name": "Python 3",
   "language": "python",
   "name": "python3"
  },
  "language_info": {
   "codemirror_mode": {
    "name": "ipython",
    "version": 3
   },
   "file_extension": ".py",
   "mimetype": "text/x-python",
   "name": "python",
   "nbconvert_exporter": "python",
   "pygments_lexer": "ipython3",
   "version": "3.7.3"
  }
 },
 "nbformat": 4,
 "nbformat_minor": 2
}
