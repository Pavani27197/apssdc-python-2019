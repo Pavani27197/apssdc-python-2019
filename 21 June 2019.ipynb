{
 "cells": [
  {
   "cell_type": "code",
   "execution_count": 129,
   "metadata": {},
   "outputs": [
    {
     "name": "stdout",
     "output_type": "stream",
     "text": [
      "valid Number\n",
      "Invalid Phone number or Email\n"
     ]
    }
   ],
   "source": [
    " # Function to add contact to contacts text file\n",
    "from packages.validator import phonenumbervalidator as pnv, emailidvalidator as ev\n",
    "#from Packages.validators import emailValidator as ev\n",
    "\n",
    "\n",
    "def addcontact(name, phone, email):\n",
    "    # store data as name,phone,email in the contacts file    \n",
    "    filename = 'dataFiles/contacts.txt'\n",
    "    if not checkcontactexists(name):\n",
    "        if pnv(phone) and ev(email):\n",
    "            with open(filename, 'a') as f:\n",
    "                line = name + ',' + str(phone) + ',' + email + '\\n'\n",
    "                f.write(line)\n",
    "            print(name, 'added to contacts')\n",
    "        else:\n",
    "            print('Invalid Phone number or Email')\n",
    "            return\n",
    "    else:\n",
    "        print(name, 'already exists')\n",
    "    return\n",
    "\n",
    "import re\n",
    "# Function to check if contact already exists\n",
    "def checkcontactexists(name):\n",
    "    filename = 'dataFiles/contacts.txt'\n",
    "    with open(filename, 'r') as f:\n",
    "        filedata = f.read()\n",
    "        pattern = name+','\n",
    "    return re.search(pattern, filedata)\n",
    "\n",
    "addcontact('name2', 8765432109, 'name2_34@gmail.com')"
   ]
  },
  {
   "cell_type": "code",
   "execution_count": 102,
   "metadata": {},
   "outputs": [
    {
     "data": {
      "text/plain": [
       "'\\nRaj,7890876358,raj@gmail.com'"
      ]
     },
     "execution_count": 102,
     "metadata": {},
     "output_type": "execute_result"
    }
   ],
   "source": [
    "filename = 'datafiles/contacts123.txt'\n",
    "def csvtolist(filename):\n",
    "    li = []\n",
    "    with open(filename, 'r') as f:\n",
    "        for line in f:\n",
    "            li.append(line.split(','))\n",
    "    return li\n",
    "\n",
    "def listtofile(li):\n",
    "    s = ''\n",
    "    for i in li:\n",
    "        s += ','.join(i)\n",
    "    return s\n",
    "    \n",
    "li = csvtolist(filename)\n",
    "listtofile(li)"
   ]
  },
  {
   "cell_type": "code",
   "execution_count": 114,
   "metadata": {},
   "outputs": [],
   "source": [
    "fname='datafiles/contacts123.txt'\n",
    "f=open(fname,'a')\n",
    "f.write(\"\\nRaj,7890876358,raj@gmail.com\")\n",
    "f.write(\"\\nrani,984798789709,hbcdjkh@gmail.com\")\n",
    "f.close()"
   ]
  },
  {
   "cell_type": "code",
   "execution_count": 115,
   "metadata": {},
   "outputs": [
    {
     "name": "stdout",
     "output_type": "stream",
     "text": [
      "\n",
      "Raj,7890876358,raj@gmail.com\n",
      "Raj,7890876358,raj@gmail.com\n",
      "rani,984798789709,hbcdjkh@gmail.com\n"
     ]
    }
   ],
   "source": [
    "with open(fname,'r') as f:\n",
    "    print(f.read())"
   ]
  },
  {
   "cell_type": "code",
   "execution_count": 116,
   "metadata": {},
   "outputs": [
    {
     "name": "stdout",
     "output_type": "stream",
     "text": [
      "\n",
      "Raj,7890876358,raj@gmail.com\n",
      "Raj,7890876358,raj@gmail.com\n",
      "rani,984798789709,hbcdjkh@gmail.com"
     ]
    }
   ],
   "source": [
    "with open(fname,'r') as f:\n",
    "    for line in f.readlines():\n",
    "        print(line,end='')"
   ]
  },
  {
   "cell_type": "code",
   "execution_count": 117,
   "metadata": {},
   "outputs": [
    {
     "name": "stdout",
     "output_type": "stream",
     "text": [
      "\n",
      "Raj,7890876358,raj@gmail.com\n",
      "Raj,7890876358,raj@gmail.com\n",
      "rani,984798789709,hbcdjkh@gmail.com"
     ]
    }
   ],
   "source": [
    "def listcontacts(fname):\n",
    "    with open(fname,'r') as f:\n",
    "        for line in f.readlines():\n",
    "            print(line,end='')\n",
    "listcontacts(fname)"
   ]
  },
  {
   "cell_type": "code",
   "execution_count": 118,
   "metadata": {},
   "outputs": [
    {
     "data": {
      "text/plain": [
       "[['\\n'],\n",
       " ['Raj', '7890876358', 'raj@gmail.com\\n'],\n",
       " ['Raj', '7890876358', 'raj@gmail.com\\n'],\n",
       " ['rani', '984798789709', 'hbcdjkh@gmail.com']]"
      ]
     },
     "execution_count": 118,
     "metadata": {},
     "output_type": "execute_result"
    }
   ],
   "source": [
    "def listtocsv(fname):\n",
    "    with open(fname,'r') as f:\n",
    "        f1=[]\n",
    "        for line in f:\n",
    "            f1.append(line.split(sep=','))\n",
    "    return f1\n",
    "listtocsv(fname)"
   ]
  },
  {
   "cell_type": "code",
   "execution_count": 130,
   "metadata": {},
   "outputs": [
    {
     "name": "stdout",
     "output_type": "stream",
     "text": [
      "Raj,7890876358,raj@gmail.com\n",
      "Raj,7890876358,raj@gmail.com\n",
      "rani,984798789709,hbcdjkh@gmail.com"
     ]
    }
   ],
   "source": [
    "def search(fname,name):\n",
    "    f1=listtocsv(fname)\n",
    "    flag=0\n",
    "    for line in f1:\n",
    "        if line[0]==name:\n",
    "            flag=1\n",
    "            print(','.join(line),end='')\n",
    "    if flag==0:\n",
    "        print('contact not found')\n",
    "search(fname,'Raj')\n",
    "search(fname,'rani')\n",
    "    "
   ]
  },
  {
   "cell_type": "code",
   "execution_count": 135,
   "metadata": {},
   "outputs": [
    {
     "data": {
      "text/plain": [
       "1"
      ]
     },
     "execution_count": 135,
     "metadata": {},
     "output_type": "execute_result"
    }
   ],
   "source": [
    "def searchwithreturn(fname,name):\n",
    "    f1=csvtolist(fname)\n",
    "    flag=0\n",
    "    for i in range(len(f1)):\n",
    "        if name==f1[i][0]:\n",
    "            flag=1\n",
    "            return i\n",
    "    if flag==0:\n",
    "        return -1\n",
    "        \n",
    "searchwithreturn(fname,'Raj')\n",
    "\n",
    "    "
   ]
  },
  {
   "cell_type": "code",
   "execution_count": 137,
   "metadata": {},
   "outputs": [],
   "source": [
    "def contactdelete(fname,name):\n",
    "    i=searchwithreturn(fname,name)\n",
    "    if i!=-1:\n",
    "        f1=csvtolist(fname)\n",
    "        f1.pop(i)\n",
    "        s=listtofile(f1)\n",
    "        with open (fname,'w') as f:\n",
    "            f.write(s)\n",
    "    else:\n",
    "        print(\"contac not found to remove\")\n",
    "contactdelete(fname,'Raj')         "
   ]
  },
  {
   "cell_type": "code",
   "execution_count": null,
   "metadata": {},
   "outputs": [],
   "source": [
    "    "
   ]
  }
 ],
 "metadata": {
  "kernelspec": {
   "display_name": "Python 3",
   "language": "python",
   "name": "python3"
  },
  "language_info": {
   "codemirror_mode": {
    "name": "ipython",
    "version": 3
   },
   "file_extension": ".py",
   "mimetype": "text/x-python",
   "name": "python",
   "nbconvert_exporter": "python",
   "pygments_lexer": "ipython3",
   "version": "3.7.3"
  }
 },
 "nbformat": 4,
 "nbformat_minor": 2
}
