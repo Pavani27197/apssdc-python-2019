{
 "cells": [
  {
   "cell_type": "code",
   "execution_count": null,
   "metadata": {},
   "outputs": [
    {
     "name": "stdout",
     "output_type": "stream",
     "text": [
      "6\n"
     ]
    }
   ],
   "source": [
    "n=int(input())\n",
    "for i in range(n):\n",
    "    s=input()\n",
    "    s=s.split()\n",
    "    a=int(s[0])\n",
    "    b=int(s[1])\n",
    "    if a%b==0:\n",
    "        print(\"factor\")\n",
    "    else:\n",
    "        print(\"not a factor\")"
   ]
  },
  {
   "cell_type": "code",
   "execution_count": null,
   "metadata": {},
   "outputs": [],
   "source": [
    "s=input().split()\n",
    "for i in s:\n",
    "    print(i)\n",
    "    print(\"######\")\n",
    "for i in range(len(s)):\n",
    "    print(s[i])\n",
    "    s[i]=int(s[i])"
   ]
  },
  {
   "cell_type": "code",
   "execution_count": 6,
   "metadata": {},
   "outputs": [
    {
     "name": "stdout",
     "output_type": "stream",
     "text": [
      "8 4\n"
     ]
    }
   ],
   "source": [
    "s = ' a$26jduevh34b'\n",
    "\n",
    "alphabetscount = 0\n",
    "digitscount = 0\n",
    "for c in s:    \n",
    "    if c.isalpha():\n",
    "        alphabetscount += 1\n",
    "    elif c.isdigit():\n",
    "        digitscount += 1\n",
    "\n",
    "print(alphabetscount, digitscount)"
   ]
  },
  {
   "cell_type": "code",
   "execution_count": 10,
   "metadata": {},
   "outputs": [
    {
     "name": "stdout",
     "output_type": "stream",
     "text": [
      "6\n",
      "4\n"
     ]
    }
   ],
   "source": [
    "my_word = \"HelLo WorLd\"\n",
    "lower_count = sum(map(str.islower, my_word))\n",
    "print(lower_count)\n",
    "upper_count = sum(map(str.isupper, my_word))\n",
    "print(upper_count)"
   ]
  },
  {
   "cell_type": "code",
   "execution_count": null,
   "metadata": {},
   "outputs": [],
   "source": []
  }
 ],
 "metadata": {
  "kernelspec": {
   "display_name": "Python 3",
   "language": "python",
   "name": "python3"
  },
  "language_info": {
   "codemirror_mode": {
    "name": "ipython",
    "version": 3
   },
   "file_extension": ".py",
   "mimetype": "text/x-python",
   "name": "python",
   "nbconvert_exporter": "python",
   "pygments_lexer": "ipython3",
   "version": "3.7.3"
  }
 },
 "nbformat": 4,
 "nbformat_minor": 2
}
