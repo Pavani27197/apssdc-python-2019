{
 "cells": [
  {
   "cell_type": "markdown",
   "metadata": {},
   "source": [
    "# Python Data Structures\n",
    "\n",
    "\n",
    "### Lists"
   ]
  },
  {
   "cell_type": "code",
   "execution_count": 121,
   "metadata": {},
   "outputs": [
    {
     "data": {
      "text/plain": [
       "['__add__',\n",
       " '__class__',\n",
       " '__contains__',\n",
       " '__delattr__',\n",
       " '__delitem__',\n",
       " '__dir__',\n",
       " '__doc__',\n",
       " '__eq__',\n",
       " '__format__',\n",
       " '__ge__',\n",
       " '__getattribute__',\n",
       " '__getitem__',\n",
       " '__gt__',\n",
       " '__hash__',\n",
       " '__iadd__',\n",
       " '__imul__',\n",
       " '__init__',\n",
       " '__init_subclass__',\n",
       " '__iter__',\n",
       " '__le__',\n",
       " '__len__',\n",
       " '__lt__',\n",
       " '__mul__',\n",
       " '__ne__',\n",
       " '__new__',\n",
       " '__reduce__',\n",
       " '__reduce_ex__',\n",
       " '__repr__',\n",
       " '__reversed__',\n",
       " '__rmul__',\n",
       " '__setattr__',\n",
       " '__setitem__',\n",
       " '__sizeof__',\n",
       " '__str__',\n",
       " '__subclasshook__',\n",
       " 'append',\n",
       " 'clear',\n",
       " 'copy',\n",
       " 'count',\n",
       " 'extend',\n",
       " 'index',\n",
       " 'insert',\n",
       " 'pop',\n",
       " 'remove',\n",
       " 'reverse',\n",
       " 'sort']"
      ]
     },
     "execution_count": 121,
     "metadata": {},
     "output_type": "execute_result"
    }
   ],
   "source": [
    "li =[123,234,345]\n",
    "li\n",
    "li[1]  \n",
    "li[1:]   \n",
    "li[::-1]\n",
    "li[::2]\n",
    "li[1::2]\n",
    "li.append(456)\n",
    "li\n",
    "li.insert(1,900)\n",
    "li\n",
    "li.sort()\n",
    "li\n",
    "li.pop()\n",
    "li\n",
    "li.pop(1)\n",
    "li\n",
    "li2 = [100,200,300]\n",
    "li2\n",
    "li.extend(li2)\n",
    "li\n",
    "li.sort()\n",
    "li\n",
    "sum(li)\n",
    "max(li)\n",
    "len(li)\n",
    "li\n",
    "sum(li)/len(li)\n",
    "sum(li[1::2])/len(li[1::2])\n",
    "min(li)\n",
    "li.index(345)\n",
    "try :\n",
    "    \n"
   ]
  },
  {
   "cell_type": "code",
   "execution_count": 122,
   "metadata": {},
   "outputs": [
    {
     "data": {
      "text/plain": [
       "['__add__',\n",
       " '__class__',\n",
       " '__contains__',\n",
       " '__delattr__',\n",
       " '__delitem__',\n",
       " '__dir__',\n",
       " '__doc__',\n",
       " '__eq__',\n",
       " '__format__',\n",
       " '__ge__',\n",
       " '__getattribute__',\n",
       " '__getitem__',\n",
       " '__gt__',\n",
       " '__hash__',\n",
       " '__iadd__',\n",
       " '__imul__',\n",
       " '__init__',\n",
       " '__init_subclass__',\n",
       " '__iter__',\n",
       " '__le__',\n",
       " '__len__',\n",
       " '__lt__',\n",
       " '__mul__',\n",
       " '__ne__',\n",
       " '__new__',\n",
       " '__reduce__',\n",
       " '__reduce_ex__',\n",
       " '__repr__',\n",
       " '__reversed__',\n",
       " '__rmul__',\n",
       " '__setattr__',\n",
       " '__setitem__',\n",
       " '__sizeof__',\n",
       " '__str__',\n",
       " '__subclasshook__',\n",
       " 'append',\n",
       " 'clear',\n",
       " 'copy',\n",
       " 'count',\n",
       " 'extend',\n",
       " 'index',\n",
       " 'insert',\n",
       " 'pop',\n",
       " 'remove',\n",
       " 'reverse',\n",
       " 'sort']"
      ]
     },
     "execution_count": 122,
     "metadata": {},
     "output_type": "execute_result"
    }
   ],
   "source": [
    "dir(list)\n"
   ]
  },
  {
   "cell_type": "code",
   "execution_count": 83,
   "metadata": {},
   "outputs": [
    {
     "data": {
      "text/plain": [
       "600"
      ]
     },
     "execution_count": 83,
     "metadata": {},
     "output_type": "execute_result"
    }
   ],
   "source": [
    "#identify the second largest element\n",
    "li = [500,234,600,456,500,600]\n",
    "li.sort()\n",
    "li \n",
    "li[-2]\n",
    "\n",
    "\n",
    "    "
   ]
  },
  {
   "cell_type": "code",
   "execution_count": 111,
   "metadata": {},
   "outputs": [
    {
     "data": {
      "text/plain": [
       "[1, 2, 3, 3, 4, 5, 6, 10, 11]"
      ]
     },
     "execution_count": 111,
     "metadata": {},
     "output_type": "execute_result"
    }
   ],
   "source": [
    "# function that identify the second largest element\n",
    "li = [3,4,2,1,6,3,10,11,5]\n",
    "\n",
    "li.sort()\n",
    "li"
   ]
  },
  {
   "cell_type": "code",
   "execution_count": 106,
   "metadata": {},
   "outputs": [
    {
     "data": {
      "text/plain": [
       "10"
      ]
     },
     "execution_count": 106,
     "metadata": {},
     "output_type": "execute_result"
    }
   ],
   "source": [
    "def secondlargest(li):\n",
    "    li.sort()\n",
    "    return li [-2]\n",
    "\n",
    "secondlargest(li)"
   ]
  },
  {
   "cell_type": "code",
   "execution_count": 101,
   "metadata": {},
   "outputs": [
    {
     "data": {
      "text/plain": [
       "10"
      ]
     },
     "execution_count": 101,
     "metadata": {},
     "output_type": "execute_result"
    }
   ],
   "source": [
    "#function that returns the n largest element  \n",
    "li = [3,4,2,1,6,3,10,11,5]\n",
    "def nlargest(li,n):\n",
    "    li.sort()\n",
    "    return li [n-1]\n",
    "li\n",
    "\n",
    "nlargest(li,8)"
   ]
  },
  {
   "cell_type": "code",
   "execution_count": 138,
   "metadata": {},
   "outputs": [
    {
     "data": {
      "text/plain": [
       "0"
      ]
     },
     "execution_count": 138,
     "metadata": {},
     "output_type": "execute_result"
    }
   ],
   "source": [
    "#function to search for data in a list \n",
    "#search for the key in the list and return the \n",
    "li = [345,678,123,123]\n",
    "def linearsearch(li,key):\n",
    "    for index in range(0, len(li)):\n",
    "         if li[index] == key:\n",
    "            return index\n",
    "    return - 1\n",
    "def linearsearch2(li,key):\n",
    "    for element in li:\n",
    "        if element == key :\n",
    "            return li.index(element)\n",
    "    return -1\n",
    "def linearsearch3(li,key):\n",
    "    for key in li:\n",
    "            return li.index(key)\n",
    "    return -1\n",
    "        \n",
    "linearsearch3(li,678)"
   ]
  },
  {
   "cell_type": "code",
   "execution_count": 143,
   "metadata": {},
   "outputs": [
    {
     "data": {
      "text/plain": [
       "'python programming'"
      ]
     },
     "execution_count": 143,
     "metadata": {},
     "output_type": "execute_result"
    }
   ],
   "source": [
    "#function to count the occurances of  a chracater in \n",
    "#\"python programing\",m ->2\n",
    "string= 'python programming'\n",
    "def count(string,substring):\n",
    "    string.count()\n",
    "string"
   ]
  },
  {
   "cell_type": "code",
   "execution_count": 172,
   "metadata": {},
   "outputs": [
    {
     "data": {
      "text/plain": [
       "2"
      ]
     },
     "execution_count": 172,
     "metadata": {},
     "output_type": "execute_result"
    }
   ],
   "source": [
    "#function to count the occurances of  a chracater in \n",
    "#\"python programing\",m ->2\n",
    "def count(string,substring):\n",
    "    count = 0\n",
    "    for ch in string:\n",
    "        if ch == substring:\n",
    "            coint =+1\n",
    "    return count\n",
    "def count2(string,substring):\n",
    "    return string.count(substring)\n",
    "    \n",
    "    \n",
    "count2(\"python programming\",'m')"
   ]
  },
  {
   "cell_type": "code",
   "execution_count": 168,
   "metadata": {},
   "outputs": [
    {
     "data": {
      "text/plain": [
       "2"
      ]
     },
     "execution_count": 168,
     "metadata": {},
     "output_type": "execute_result"
    }
   ],
   "source": [
    "#function to count the occurances of  a chracater in \n",
    "#\"abcabcddcba\",ab ->2\n",
    "def count(string,substring):\n",
    "    count = 0\n",
    "    for ch in string:\n",
    "        if ch == substring:\n",
    "            coint =+1\n",
    "    return count\n",
    "def count2(string,substring):\n",
    "    return string.count(substring)\n",
    "    \n",
    "    \n",
    "count2(\"abcabcddcba\",'ab')"
   ]
  },
  {
   "cell_type": "code",
   "execution_count": null,
   "metadata": {},
   "outputs": [],
   "source": []
  }
 ],
 "metadata": {
  "kernelspec": {
   "display_name": "Python 3",
   "language": "python",
   "name": "python3"
  },
  "language_info": {
   "codemirror_mode": {
    "name": "ipython",
    "version": 3
   },
   "file_extension": ".py",
   "mimetype": "text/x-python",
   "name": "python",
   "nbconvert_exporter": "python",
   "pygments_lexer": "ipython3",
   "version": "3.7.3"
  }
 },
 "nbformat": 4,
 "nbformat_minor": 2
}
